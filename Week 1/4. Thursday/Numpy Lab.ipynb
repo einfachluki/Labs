{
 "cells": [
  {
   "cell_type": "markdown",
   "id": "93339ffd",
   "metadata": {},
   "source": [
    "### 1 Exercise"
   ]
  },
  {
   "cell_type": "code",
   "execution_count": 1,
   "id": "8ac7cf9c",
   "metadata": {},
   "outputs": [],
   "source": [
    "import numpy as np"
   ]
  },
  {
   "cell_type": "markdown",
   "id": "4a959768",
   "metadata": {},
   "source": [
    "### 2 Exercise"
   ]
  },
  {
   "cell_type": "code",
   "execution_count": 7,
   "id": "de298be1",
   "metadata": {},
   "outputs": [
    {
     "data": {
      "text/plain": [
       "array([0., 0., 0., 0., 0., 0., 0., 0., 0., 0.])"
      ]
     },
     "execution_count": 7,
     "metadata": {},
     "output_type": "execute_result"
    }
   ],
   "source": [
    "null_vector = np.zeros(10)\n",
    "null_vector"
   ]
  },
  {
   "cell_type": "markdown",
   "id": "e77f985d",
   "metadata": {},
   "source": [
    "### 3 Exercise"
   ]
  },
  {
   "cell_type": "code",
   "execution_count": 8,
   "id": "aad6dfb4",
   "metadata": {},
   "outputs": [
    {
     "data": {
      "text/plain": [
       "array([0., 0., 0., 0., 1., 0., 0., 0., 0., 0.])"
      ]
     },
     "execution_count": 8,
     "metadata": {},
     "output_type": "execute_result"
    }
   ],
   "source": [
    "null_vector[4] = 1\n",
    "null_vector"
   ]
  },
  {
   "cell_type": "markdown",
   "id": "1cc9cea0",
   "metadata": {},
   "source": [
    "### 4 Exercise"
   ]
  },
  {
   "cell_type": "code",
   "execution_count": 11,
   "id": "bbf9f81c",
   "metadata": {},
   "outputs": [
    {
     "data": {
      "text/plain": [
       "array([10, 11, 12, 13, 14, 15, 16, 17, 18, 19, 20, 21, 22, 23, 24, 25, 26,\n",
       "       27, 28, 29, 30, 31, 32, 33, 34, 35, 36, 37, 38, 39, 40, 41, 42, 43,\n",
       "       44, 45, 46, 47, 48, 49])"
      ]
     },
     "execution_count": 11,
     "metadata": {},
     "output_type": "execute_result"
    }
   ],
   "source": [
    "arry_10_49 = np.arange(10,50)\n",
    "arry_10_49"
   ]
  },
  {
   "cell_type": "markdown",
   "id": "76421e65",
   "metadata": {},
   "source": [
    "### 5 Exercise"
   ]
  },
  {
   "cell_type": "code",
   "execution_count": 15,
   "id": "0d1b9891",
   "metadata": {},
   "outputs": [
    {
     "data": {
      "text/plain": [
       "array([[0, 1, 2],\n",
       "       [3, 4, 5],\n",
       "       [6, 7, 8]])"
      ]
     },
     "execution_count": 15,
     "metadata": {},
     "output_type": "execute_result"
    }
   ],
   "source": [
    "array_3x3 = np.arange(0,9).reshape(3,3)\n",
    "array_3x3"
   ]
  },
  {
   "cell_type": "markdown",
   "id": "0616d485",
   "metadata": {},
   "source": [
    "### 6 Exercise"
   ]
  },
  {
   "cell_type": "code",
   "execution_count": 39,
   "id": "648997d8",
   "metadata": {},
   "outputs": [
    {
     "data": {
      "text/plain": [
       "(array([0, 1, 4]),)"
      ]
     },
     "execution_count": 39,
     "metadata": {},
     "output_type": "execute_result"
    }
   ],
   "source": [
    "sample_array = np.array([1,2,0,0,4,0])\n",
    "non_zero_indices = np.nonzero(sample_array)\n",
    "non_zero_indices"
   ]
  },
  {
   "cell_type": "markdown",
   "id": "e27341ea",
   "metadata": {},
   "source": [
    "### 7 Exercise"
   ]
  },
  {
   "cell_type": "code",
   "execution_count": 22,
   "id": "1863b487",
   "metadata": {},
   "outputs": [
    {
     "data": {
      "text/plain": [
       "array([[1., 0., 0.],\n",
       "       [0., 1., 0.],\n",
       "       [0., 0., 1.]])"
      ]
     },
     "execution_count": 22,
     "metadata": {},
     "output_type": "execute_result"
    }
   ],
   "source": [
    "eye_array = np.eye(3,3)\n",
    "eye_array"
   ]
  },
  {
   "cell_type": "markdown",
   "id": "047c11cc",
   "metadata": {},
   "source": [
    "### 8 Exercise"
   ]
  },
  {
   "cell_type": "code",
   "execution_count": 26,
   "id": "3894c10d",
   "metadata": {},
   "outputs": [
    {
     "data": {
      "text/plain": [
       "array([[[0.12379207, 0.69087147, 0.10136587],\n",
       "        [0.35743772, 0.16754372, 0.85680551],\n",
       "        [0.93182235, 0.96066444, 0.40320385]],\n",
       "\n",
       "       [[0.67455003, 0.70385196, 0.30448393],\n",
       "        [0.0586012 , 0.557837  , 0.45591982],\n",
       "        [0.00135771, 0.02491673, 0.90319179]],\n",
       "\n",
       "       [[0.37948631, 0.65574007, 0.30367054],\n",
       "        [0.49277111, 0.84591656, 0.89397688],\n",
       "        [0.33386483, 0.4449919 , 0.73557861]]])"
      ]
     },
     "execution_count": 26,
     "metadata": {},
     "output_type": "execute_result"
    }
   ],
   "source": [
    "array_3x3x3_random = np.random.random([3,3,3])\n",
    "array_3x3x3_random"
   ]
  },
  {
   "cell_type": "markdown",
   "id": "82141e1f",
   "metadata": {},
   "source": [
    "### 9 Exercise"
   ]
  },
  {
   "cell_type": "code",
   "execution_count": 40,
   "id": "913145b3",
   "metadata": {},
   "outputs": [
    {
     "data": {
      "text/plain": [
       "0.9931168553752098"
      ]
     },
     "execution_count": 40,
     "metadata": {},
     "output_type": "execute_result"
    }
   ],
   "source": [
    "array_10x10_random = np.random.random([10,10])\n",
    "array_10x10_random.min()\n",
    "array_10x10_random.max()"
   ]
  },
  {
   "cell_type": "markdown",
   "id": "e179a11f",
   "metadata": {},
   "source": [
    "### 10 Exercise"
   ]
  },
  {
   "cell_type": "code",
   "execution_count": 35,
   "id": "4e60ef2d",
   "metadata": {},
   "outputs": [],
   "source": [
    "array_30_random = np.random.random(30)\n",
    "array_30_random.mean()"
   ]
  },
  {
   "cell_type": "markdown",
   "id": "ce86a42d",
   "metadata": {},
   "source": [
    "### 11 Exercise"
   ]
  },
  {
   "cell_type": "code",
   "execution_count": 65,
   "id": "73986595",
   "metadata": {},
   "outputs": [
    {
     "data": {
      "text/plain": [
       "array([[0, 0, 0, 0, 0],\n",
       "       [1, 0, 0, 0, 0],\n",
       "       [0, 2, 0, 0, 0],\n",
       "       [0, 0, 3, 0, 0],\n",
       "       [0, 0, 0, 4, 0]])"
      ]
     },
     "execution_count": 65,
     "metadata": {},
     "output_type": "execute_result"
    }
   ],
   "source": [
    "array_5x5 = np.diag(v = np.arange(1,5), k = -1)\n",
    "array_5x5"
   ]
  },
  {
   "cell_type": "markdown",
   "id": "68a3edea",
   "metadata": {},
   "source": [
    "### 12 Exercise"
   ]
  },
  {
   "cell_type": "code",
   "execution_count": 66,
   "id": "9e3409a5",
   "metadata": {},
   "outputs": [
    {
     "name": "stderr",
     "output_type": "stream",
     "text": [
      "/var/folders/rd/g86s3t0n2qg0z79f8ywnk8ym0000gn/T/ipykernel_86448/1855677372.py:2: RuntimeWarning: Mean of empty slice.\n",
      "  (standard_array-standard_array.mean())/standard_array.std()\n",
      "/Users/lukasbauerschmidt/opt/anaconda3/envs/DA_Env/lib/python3.9/site-packages/numpy/core/_methods.py:190: RuntimeWarning: invalid value encountered in double_scalars\n",
      "  ret = ret.dtype.type(ret / rcount)\n",
      "/Users/lukasbauerschmidt/opt/anaconda3/envs/DA_Env/lib/python3.9/site-packages/numpy/core/_methods.py:265: RuntimeWarning: Degrees of freedom <= 0 for slice\n",
      "  ret = _var(a, axis=axis, dtype=dtype, out=out, ddof=ddof,\n",
      "/Users/lukasbauerschmidt/opt/anaconda3/envs/DA_Env/lib/python3.9/site-packages/numpy/core/_methods.py:223: RuntimeWarning: invalid value encountered in divide\n",
      "  arrmean = um.true_divide(arrmean, div, out=arrmean, casting='unsafe',\n",
      "/Users/lukasbauerschmidt/opt/anaconda3/envs/DA_Env/lib/python3.9/site-packages/numpy/core/_methods.py:257: RuntimeWarning: invalid value encountered in double_scalars\n",
      "  ret = ret.dtype.type(ret / rcount)\n"
     ]
    },
    {
     "data": {
      "text/plain": [
       "array([], dtype=float64)"
      ]
     },
     "execution_count": 66,
     "metadata": {},
     "output_type": "execute_result"
    }
   ],
   "source": [
    "#tbd\n",
    "standard_array = np.arange(5,5)\n",
    "(standard_array-standard_array.mean())/standard_array.std()"
   ]
  },
  {
   "cell_type": "markdown",
   "id": "038b054a",
   "metadata": {},
   "source": [
    "### 13 Exercise"
   ]
  },
  {
   "cell_type": "code",
   "execution_count": 87,
   "id": "06084505",
   "metadata": {},
   "outputs": [
    {
     "data": {
      "text/plain": [
       "array([], dtype=float64)"
      ]
     },
     "execution_count": 87,
     "metadata": {},
     "output_type": "execute_result"
    }
   ],
   "source": [
    "random_6x6_1 = np.random.random([4,4])\n",
    "random_6x6_2 = np.random.random([4,4])\n",
    "\n",
    "intersection_array = np.intersect1d(random_6x6_1, random_6x6_2)\n",
    "intersection_array"
   ]
  },
  {
   "cell_type": "markdown",
   "id": "7be0cd0e",
   "metadata": {},
   "source": [
    "### 14 Exercise"
   ]
  },
  {
   "cell_type": "code",
   "execution_count": 90,
   "id": "9c12442e",
   "metadata": {},
   "outputs": [
    {
     "data": {
      "text/plain": [
       "array([0.05492034, 0.05873429, 0.23726912, 0.25403007, 0.27454819,\n",
       "       0.4149564 , 0.7017094 , 0.71043547, 0.73527635, 0.99193801])"
      ]
     },
     "execution_count": 90,
     "metadata": {},
     "output_type": "execute_result"
    }
   ],
   "source": [
    "random10vector_1 = np.random.random(10)\n",
    "random10vector_1.sort()\n",
    "random10vector_1"
   ]
  },
  {
   "cell_type": "markdown",
   "id": "87c0dcae",
   "metadata": {},
   "source": [
    "### 15 Exercise"
   ]
  },
  {
   "cell_type": "code",
   "execution_count": 123,
   "id": "653057da",
   "metadata": {},
   "outputs": [
    {
     "data": {
      "text/plain": [
       "array([0.65358959, 0.11500694, 1.        , 0.4821914 , 0.87247454,\n",
       "       0.21233268, 0.04070962, 0.39719446, 0.2331322 , 0.84174072])"
      ]
     },
     "execution_count": 123,
     "metadata": {},
     "output_type": "execute_result"
    }
   ],
   "source": [
    "import random\n",
    "\n",
    "np.random.seed(1000)\n",
    "random10vector_2 = np.random.random(10)\n",
    "random10vector_2[random10vector_2.argmax()] = 1\n",
    "random10vector_2"
   ]
  },
  {
   "cell_type": "markdown",
   "id": "150956f9",
   "metadata": {},
   "source": [
    "### 16 Exercise"
   ]
  },
  {
   "cell_type": "code",
   "execution_count": 287,
   "id": "d440bf77",
   "metadata": {},
   "outputs": [
    {
     "data": {
      "text/plain": [
       "array([[0, 1],\n",
       "       [2, 3]])"
      ]
     },
     "execution_count": 287,
     "metadata": {},
     "output_type": "execute_result"
    }
   ],
   "source": [
    "#research: perform math functions for each item in array!\n",
    "#np.random.seed(1000)\n",
    "random2x2vector = np.arange(0,4).reshape(2,2)\n",
    "random2x2vector"
   ]
  },
  {
   "cell_type": "code",
   "execution_count": 212,
   "id": "387c0388",
   "metadata": {},
   "outputs": [
    {
     "data": {
      "text/plain": [
       "array([[0.5],\n",
       "       [2.5]])"
      ]
     },
     "execution_count": 212,
     "metadata": {},
     "output_type": "execute_result"
    }
   ],
   "source": [
    "random2x2vector.mean(axis=1,keepdims=1)"
   ]
  },
  {
   "cell_type": "code",
   "execution_count": 221,
   "id": "9baa946e",
   "metadata": {},
   "outputs": [
    {
     "data": {
      "text/plain": [
       "array([[-0.5,  0.5],\n",
       "       [-0.5,  0.5]])"
      ]
     },
     "execution_count": 221,
     "metadata": {},
     "output_type": "execute_result"
    }
   ],
   "source": [
    "random2x2vector - random2x2vector.mean(axis=1,keepdims=1)"
   ]
  },
  {
   "cell_type": "markdown",
   "id": "670d6264",
   "metadata": {},
   "source": [
    "### 17 Exercise"
   ]
  },
  {
   "cell_type": "code",
   "execution_count": 301,
   "id": "1c92e167",
   "metadata": {},
   "outputs": [
    {
     "data": {
      "text/plain": [
       "array([   0,    1,    2, ..., 9997, 9998, 9999])"
      ]
     },
     "execution_count": 301,
     "metadata": {},
     "output_type": "execute_result"
    }
   ],
   "source": [
    "Z = np.arange(10000)\n",
    "np.random.shuffle(Z)\n",
    "n=-5\n",
    "Z[np.argsort(Z)]"
   ]
  },
  {
   "cell_type": "markdown",
   "id": "8abb49d8",
   "metadata": {},
   "source": [
    "### 18 Exercise"
   ]
  },
  {
   "cell_type": "code",
   "execution_count": null,
   "id": "79838ceb",
   "metadata": {},
   "outputs": [],
   "source": []
  }
 ],
 "metadata": {
  "kernelspec": {
   "display_name": "Python 3 (ipykernel)",
   "language": "python",
   "name": "python3"
  },
  "language_info": {
   "codemirror_mode": {
    "name": "ipython",
    "version": 3
   },
   "file_extension": ".py",
   "mimetype": "text/x-python",
   "name": "python",
   "nbconvert_exporter": "python",
   "pygments_lexer": "ipython3",
   "version": "3.9.15"
  }
 },
 "nbformat": 4,
 "nbformat_minor": 5
}
