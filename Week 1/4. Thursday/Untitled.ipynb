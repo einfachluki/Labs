{
 "cells": [
  {
   "cell_type": "markdown",
   "id": "d0961b61",
   "metadata": {},
   "source": [
    "### 1 Exercise"
   ]
  },
  {
   "cell_type": "code",
   "execution_count": 1,
   "id": "41755153",
   "metadata": {},
   "outputs": [],
   "source": [
    "import numpy as np"
   ]
  },
  {
   "cell_type": "markdown",
   "id": "74019b28",
   "metadata": {},
   "source": [
    "### 2 Exercise"
   ]
  },
  {
   "cell_type": "code",
   "execution_count": 7,
   "id": "b4ff22c4",
   "metadata": {},
   "outputs": [
    {
     "data": {
      "text/plain": [
       "array([0., 0., 0., 0., 0., 0., 0., 0., 0., 0.])"
      ]
     },
     "execution_count": 7,
     "metadata": {},
     "output_type": "execute_result"
    }
   ],
   "source": [
    "null_vector = np.zeros(10)\n",
    "null_vector"
   ]
  },
  {
   "cell_type": "markdown",
   "id": "8862f0fa",
   "metadata": {},
   "source": [
    "### 3 Exercise"
   ]
  },
  {
   "cell_type": "code",
   "execution_count": 8,
   "id": "3157a6ad",
   "metadata": {},
   "outputs": [
    {
     "data": {
      "text/plain": [
       "array([0., 0., 0., 0., 1., 0., 0., 0., 0., 0.])"
      ]
     },
     "execution_count": 8,
     "metadata": {},
     "output_type": "execute_result"
    }
   ],
   "source": [
    "null_vector[4] = 1\n",
    "null_vector"
   ]
  },
  {
   "cell_type": "markdown",
   "id": "61f56c3f",
   "metadata": {},
   "source": [
    "### 4 Exercise"
   ]
  },
  {
   "cell_type": "code",
   "execution_count": 11,
   "id": "cd069525",
   "metadata": {},
   "outputs": [
    {
     "data": {
      "text/plain": [
       "array([10, 11, 12, 13, 14, 15, 16, 17, 18, 19, 20, 21, 22, 23, 24, 25, 26,\n",
       "       27, 28, 29, 30, 31, 32, 33, 34, 35, 36, 37, 38, 39, 40, 41, 42, 43,\n",
       "       44, 45, 46, 47, 48, 49])"
      ]
     },
     "execution_count": 11,
     "metadata": {},
     "output_type": "execute_result"
    }
   ],
   "source": [
    "arry_10_49 = np.arange(10,50)\n",
    "arry_10_49"
   ]
  },
  {
   "cell_type": "markdown",
   "id": "11d0a5b8",
   "metadata": {},
   "source": [
    "### 5 Exercise"
   ]
  },
  {
   "cell_type": "code",
   "execution_count": 322,
   "id": "7c1041e5",
   "metadata": {},
   "outputs": [
    {
     "data": {
      "text/plain": [
       "array([[0, 1, 2],\n",
       "       [3, 4, 5],\n",
       "       [6, 7, 8]])"
      ]
     },
     "execution_count": 322,
     "metadata": {},
     "output_type": "execute_result"
    }
   ],
   "source": [
    "array_3x3 = np.arange(0,9).reshape(3,3)\n",
    "array_3x3"
   ]
  },
  {
   "cell_type": "markdown",
   "id": "58dfaf9e",
   "metadata": {},
   "source": [
    "### 6 Exercise"
   ]
  },
  {
   "cell_type": "code",
   "execution_count": 323,
   "id": "ec435d8f",
   "metadata": {},
   "outputs": [
    {
     "data": {
      "text/plain": [
       "(array([0, 1, 4]),)"
      ]
     },
     "execution_count": 323,
     "metadata": {},
     "output_type": "execute_result"
    }
   ],
   "source": [
    "sample_array = np.array([1,2,0,0,4,0])\n",
    "non_zero_indices = np.nonzero(sample_array)\n",
    "non_zero_indices"
   ]
  },
  {
   "cell_type": "markdown",
   "id": "3e13ebd5",
   "metadata": {},
   "source": [
    "### 7 Exercise"
   ]
  },
  {
   "cell_type": "code",
   "execution_count": 22,
   "id": "2e939149",
   "metadata": {},
   "outputs": [
    {
     "data": {
      "text/plain": [
       "array([[1., 0., 0.],\n",
       "       [0., 1., 0.],\n",
       "       [0., 0., 1.]])"
      ]
     },
     "execution_count": 22,
     "metadata": {},
     "output_type": "execute_result"
    }
   ],
   "source": [
    "eye_array = np.eye(3,3)\n",
    "eye_array"
   ]
  },
  {
   "cell_type": "markdown",
   "id": "e92c4e60",
   "metadata": {},
   "source": [
    "### 8 Exercise"
   ]
  },
  {
   "cell_type": "code",
   "execution_count": 26,
   "id": "0dc82017",
   "metadata": {},
   "outputs": [
    {
     "data": {
      "text/plain": [
       "array([[[0.12379207, 0.69087147, 0.10136587],\n",
       "        [0.35743772, 0.16754372, 0.85680551],\n",
       "        [0.93182235, 0.96066444, 0.40320385]],\n",
       "\n",
       "       [[0.67455003, 0.70385196, 0.30448393],\n",
       "        [0.0586012 , 0.557837  , 0.45591982],\n",
       "        [0.00135771, 0.02491673, 0.90319179]],\n",
       "\n",
       "       [[0.37948631, 0.65574007, 0.30367054],\n",
       "        [0.49277111, 0.84591656, 0.89397688],\n",
       "        [0.33386483, 0.4449919 , 0.73557861]]])"
      ]
     },
     "execution_count": 26,
     "metadata": {},
     "output_type": "execute_result"
    }
   ],
   "source": [
    "array_3x3x3_random = np.random.random([3,3,3])\n",
    "array_3x3x3_random"
   ]
  },
  {
   "cell_type": "markdown",
   "id": "600796fa",
   "metadata": {},
   "source": [
    "### 9 Exercise"
   ]
  },
  {
   "cell_type": "code",
   "execution_count": 40,
   "id": "c850a505",
   "metadata": {},
   "outputs": [
    {
     "data": {
      "text/plain": [
       "0.9931168553752098"
      ]
     },
     "execution_count": 40,
     "metadata": {},
     "output_type": "execute_result"
    }
   ],
   "source": [
    "array_10x10_random = np.random.random([10,10])\n",
    "array_10x10_random.min()\n",
    "array_10x10_random.max()"
   ]
  },
  {
   "cell_type": "markdown",
   "id": "908cd669",
   "metadata": {},
   "source": [
    "### 10 Exercise"
   ]
  },
  {
   "cell_type": "code",
   "execution_count": 35,
   "id": "63cb7899",
   "metadata": {},
   "outputs": [],
   "source": [
    "array_30_random = np.random.random(30)\n",
    "array_30_random.mean()"
   ]
  },
  {
   "cell_type": "markdown",
   "id": "946d2c79",
   "metadata": {},
   "source": [
    "### 11 Exercise"
   ]
  },
  {
   "cell_type": "code",
   "execution_count": 324,
   "id": "7cae01d6",
   "metadata": {},
   "outputs": [
    {
     "data": {
      "text/plain": [
       "array([[0, 0, 0, 0, 0],\n",
       "       [1, 0, 0, 0, 0],\n",
       "       [0, 2, 0, 0, 0],\n",
       "       [0, 0, 3, 0, 0],\n",
       "       [0, 0, 0, 4, 0]])"
      ]
     },
     "execution_count": 324,
     "metadata": {},
     "output_type": "execute_result"
    }
   ],
   "source": [
    "array_5x5 = np.diag(v = np.arange(1,5), k = -1)\n",
    "array_5x5"
   ]
  },
  {
   "cell_type": "markdown",
   "id": "eb247240",
   "metadata": {},
   "source": [
    "### 12 Exercise"
   ]
  },
  {
   "cell_type": "code",
   "execution_count": 347,
   "id": "5456451d",
   "metadata": {},
   "outputs": [
    {
     "data": {
      "text/plain": [
       "array([[-0.7614271 , -0.60667219,  0.16105211,  1.15914039, -1.88430177],\n",
       "       [ 1.14831447,  0.33825959,  1.39364711, -0.29814069, -0.613813  ],\n",
       "       [-0.7621135 ,  1.13852966,  0.58607663, -1.48234749,  0.42570193],\n",
       "       [-1.58821002,  0.31345455,  0.6823654 ,  1.05538506,  0.8436824 ],\n",
       "       [ 0.05609864, -1.56993912, -1.05955772,  1.47232981, -0.14751512]])"
      ]
     },
     "execution_count": 347,
     "metadata": {},
     "output_type": "execute_result"
    }
   ],
   "source": [
    "#tbd\n",
    "standard_array = np.random.random((5,5))\n",
    "(standard_array-np.mean(standard_array))/np.std(standard_array)"
   ]
  },
  {
   "cell_type": "markdown",
   "id": "d619270c",
   "metadata": {},
   "source": [
    "### 13 Exercise"
   ]
  },
  {
   "cell_type": "code",
   "execution_count": 87,
   "id": "771a96be",
   "metadata": {},
   "outputs": [
    {
     "data": {
      "text/plain": [
       "array([], dtype=float64)"
      ]
     },
     "execution_count": 87,
     "metadata": {},
     "output_type": "execute_result"
    }
   ],
   "source": [
    "random_6x6_1 = np.random.random([4,4])\n",
    "random_6x6_2 = np.random.random([4,4])\n",
    "\n",
    "intersection_array = np.intersect1d(random_6x6_1, random_6x6_2)\n",
    "intersection_array"
   ]
  },
  {
   "cell_type": "markdown",
   "id": "35b92f80",
   "metadata": {},
   "source": [
    "### 14 Exercise"
   ]
  },
  {
   "cell_type": "code",
   "execution_count": 90,
   "id": "f0efa4a6",
   "metadata": {},
   "outputs": [
    {
     "data": {
      "text/plain": [
       "array([0.05492034, 0.05873429, 0.23726912, 0.25403007, 0.27454819,\n",
       "       0.4149564 , 0.7017094 , 0.71043547, 0.73527635, 0.99193801])"
      ]
     },
     "execution_count": 90,
     "metadata": {},
     "output_type": "execute_result"
    }
   ],
   "source": [
    "random10vector_1 = np.random.random(10)\n",
    "random10vector_1.sort()\n",
    "random10vector_1"
   ]
  },
  {
   "cell_type": "code",
   "execution_count": 370,
   "id": "c7376098",
   "metadata": {},
   "outputs": [
    {
     "data": {
      "text/plain": [
       "array([0.68949477, 0.95526214, 0.71621562, 0.07526281, 0.89083729,\n",
       "       0.86110591, 0.246944  , 0.90368397, 0.17340525, 0.60753843])"
      ]
     },
     "execution_count": 370,
     "metadata": {},
     "output_type": "execute_result"
    }
   ],
   "source": [
    "#np.sort(np.random.randint(-10,10, (1,10)))\n",
    "#np.random.random([10,10])\n",
    "#np.random.randint(-10,10, 10)\n",
    "#np.arange(-10,10).reshape(10)"
   ]
  },
  {
   "cell_type": "markdown",
   "id": "301d9aed",
   "metadata": {},
   "source": [
    "### 15 Exercise"
   ]
  },
  {
   "cell_type": "code",
   "execution_count": 123,
   "id": "d7fff8d6",
   "metadata": {},
   "outputs": [
    {
     "data": {
      "text/plain": [
       "array([0.65358959, 0.11500694, 1.        , 0.4821914 , 0.87247454,\n",
       "       0.21233268, 0.04070962, 0.39719446, 0.2331322 , 0.84174072])"
      ]
     },
     "execution_count": 123,
     "metadata": {},
     "output_type": "execute_result"
    }
   ],
   "source": [
    "import random\n",
    "\n",
    "np.random.seed(1000)\n",
    "random10vector_2 = np.random.random(10)\n",
    "random10vector_2[random10vector_2.argmax()] = 1\n",
    "random10vector_2"
   ]
  },
  {
   "cell_type": "markdown",
   "id": "c86fa873",
   "metadata": {},
   "source": [
    "### 16 Exercise"
   ]
  },
  {
   "cell_type": "code",
   "execution_count": 287,
   "id": "f0983188",
   "metadata": {},
   "outputs": [
    {
     "data": {
      "text/plain": [
       "array([[0, 1],\n",
       "       [2, 3]])"
      ]
     },
     "execution_count": 287,
     "metadata": {},
     "output_type": "execute_result"
    }
   ],
   "source": [
    "#research: perform math functions for each item in array!\n",
    "#np.random.seed(1000)\n",
    "random2x2vector = np.arange(0,4).reshape(2,2)\n",
    "random2x2vector"
   ]
  },
  {
   "cell_type": "code",
   "execution_count": 212,
   "id": "d45c5805",
   "metadata": {},
   "outputs": [
    {
     "data": {
      "text/plain": [
       "array([[0.5],\n",
       "       [2.5]])"
      ]
     },
     "execution_count": 212,
     "metadata": {},
     "output_type": "execute_result"
    }
   ],
   "source": [
    "random2x2vector.mean(axis=1,keepdims=1)"
   ]
  },
  {
   "cell_type": "code",
   "execution_count": 221,
   "id": "e8a2c8d8",
   "metadata": {},
   "outputs": [
    {
     "data": {
      "text/plain": [
       "array([[-0.5,  0.5],\n",
       "       [-0.5,  0.5]])"
      ]
     },
     "execution_count": 221,
     "metadata": {},
     "output_type": "execute_result"
    }
   ],
   "source": [
    "random2x2vector - random2x2vector.mean(axis=1,keepdims=1)"
   ]
  },
  {
   "cell_type": "markdown",
   "id": "0c6ef970",
   "metadata": {},
   "source": [
    "### 17 Exercise"
   ]
  },
  {
   "cell_type": "code",
   "execution_count": 398,
   "id": "b3121500",
   "metadata": {},
   "outputs": [
    {
     "name": "stdout",
     "output_type": "stream",
     "text": [
      "[9993 9994 9995 9996 9997 9998 9999]\n"
     ]
    }
   ],
   "source": [
    "Z = np.arange(10000)\n",
    "np.random.shuffle(Z)\n",
    "print(Z[np.argsort(Z)[-7:]])"
   ]
  },
  {
   "cell_type": "markdown",
   "id": "f78a92f2",
   "metadata": {},
   "source": [
    "### 18 Exercise"
   ]
  },
  {
   "cell_type": "code",
   "execution_count": 397,
   "id": "73d23946",
   "metadata": {},
   "outputs": [
    {
     "data": {
      "text/plain": [
       "array([[2, 6, 2, 6, 5, 2, 7, 5, 4, 3]])"
      ]
     },
     "execution_count": 397,
     "metadata": {},
     "output_type": "execute_result"
    }
   ],
   "source": [
    "random_arrray = np.random.randint(1,10,[1,10])\n",
    "random_arrray"
   ]
  },
  {
   "cell_type": "code",
   "execution_count": 396,
   "id": "de68efcd",
   "metadata": {},
   "outputs": [
    {
     "data": {
      "text/plain": [
       "array([[ 3, 81, 25, 49,  1, 36, 25,  1, 49,  1]])"
      ]
     },
     "execution_count": 396,
     "metadata": {},
     "output_type": "execute_result"
    }
   ],
   "source": [
    "a=np.where(random_arrray>4, random_arrray**2, random_arrray)\n",
    "a"
   ]
  }
 ],
 "metadata": {
  "kernelspec": {
   "display_name": "Python 3 (ipykernel)",
   "language": "python",
   "name": "python3"
  },
  "language_info": {
   "codemirror_mode": {
    "name": "ipython",
    "version": 3
   },
   "file_extension": ".py",
   "mimetype": "text/x-python",
   "name": "python",
   "nbconvert_exporter": "python",
   "pygments_lexer": "ipython3",
   "version": "3.9.15"
  }
 },
 "nbformat": 4,
 "nbformat_minor": 5
}
