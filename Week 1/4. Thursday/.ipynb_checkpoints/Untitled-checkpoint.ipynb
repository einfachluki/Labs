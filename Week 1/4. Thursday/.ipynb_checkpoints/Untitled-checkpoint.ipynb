{
 "cells": [
  {
   "cell_type": "markdown",
   "id": "16a8269a",
   "metadata": {},
   "source": [
    "### 1 Exercise"
   ]
  },
  {
   "cell_type": "code",
   "execution_count": null,
   "id": "8a295815",
   "metadata": {},
   "outputs": [],
   "source": []
  },
  {
   "cell_type": "markdown",
   "id": "5ba40499",
   "metadata": {},
   "source": [
    "### 2 Exercise"
   ]
  },
  {
   "cell_type": "code",
   "execution_count": null,
   "id": "95c0cd35",
   "metadata": {},
   "outputs": [],
   "source": []
  },
  {
   "cell_type": "markdown",
   "id": "1f616c95",
   "metadata": {},
   "source": [
    "### 3 Exercise"
   ]
  },
  {
   "cell_type": "code",
   "execution_count": null,
   "id": "ac0aa256",
   "metadata": {},
   "outputs": [],
   "source": []
  },
  {
   "cell_type": "markdown",
   "id": "264654b5",
   "metadata": {},
   "source": [
    "### 4 Exercise"
   ]
  },
  {
   "cell_type": "code",
   "execution_count": null,
   "id": "76ba3e22",
   "metadata": {},
   "outputs": [],
   "source": []
  },
  {
   "cell_type": "markdown",
   "id": "c5348383",
   "metadata": {},
   "source": [
    "### 5 Exercise"
   ]
  },
  {
   "cell_type": "code",
   "execution_count": null,
   "id": "6e4aae29",
   "metadata": {},
   "outputs": [],
   "source": []
  },
  {
   "cell_type": "markdown",
   "id": "1cb6a0ac",
   "metadata": {},
   "source": [
    "### 6 Exercise"
   ]
  },
  {
   "cell_type": "markdown",
   "id": "4db6cb04",
   "metadata": {},
   "source": [
    "### 7 Exercise"
   ]
  },
  {
   "cell_type": "markdown",
   "id": "0fcf71a5",
   "metadata": {},
   "source": [
    "### 8 Exercise"
   ]
  },
  {
   "cell_type": "markdown",
   "id": "8137b9a8",
   "metadata": {},
   "source": [
    "### 9 Exercise"
   ]
  },
  {
   "cell_type": "markdown",
   "id": "5df7e247",
   "metadata": {},
   "source": [
    "### 10 Exercise"
   ]
  },
  {
   "cell_type": "markdown",
   "id": "d10ab56b",
   "metadata": {},
   "source": [
    "### 11 Exercise"
   ]
  },
  {
   "cell_type": "markdown",
   "id": "b5bed45e",
   "metadata": {},
   "source": [
    "### 12 Exercise"
   ]
  },
  {
   "cell_type": "markdown",
   "id": "c456b825",
   "metadata": {},
   "source": [
    "### 13 Exercise"
   ]
  },
  {
   "cell_type": "markdown",
   "id": "b1753948",
   "metadata": {},
   "source": [
    "### 14 Exercise"
   ]
  },
  {
   "cell_type": "markdown",
   "id": "9ec13bf6",
   "metadata": {},
   "source": [
    "### 15 Exercise"
   ]
  },
  {
   "cell_type": "markdown",
   "id": "3ff95d91",
   "metadata": {},
   "source": [
    "### 16 Exercise"
   ]
  },
  {
   "cell_type": "markdown",
   "id": "9ec739ec",
   "metadata": {},
   "source": [
    "### 17 Exercise"
   ]
  },
  {
   "cell_type": "markdown",
   "id": "9620e312",
   "metadata": {},
   "source": [
    "### 18 Exercise"
   ]
  }
 ],
 "metadata": {
  "kernelspec": {
   "display_name": "Python 3 (ipykernel)",
   "language": "python",
   "name": "python3"
  },
  "language_info": {
   "codemirror_mode": {
    "name": "ipython",
    "version": 3
   },
   "file_extension": ".py",
   "mimetype": "text/x-python",
   "name": "python",
   "nbconvert_exporter": "python",
   "pygments_lexer": "ipython3",
   "version": "3.9.15"
  }
 },
 "nbformat": 4,
 "nbformat_minor": 5
}
