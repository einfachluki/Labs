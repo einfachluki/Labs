{
 "cells": [
  {
   "cell_type": "markdown",
   "id": "20776a9b",
   "metadata": {},
   "source": [
    "# Lab | Hypothesis Testing"
   ]
  },
  {
   "cell_type": "markdown",
   "id": "adced67c",
   "metadata": {},
   "source": [
    "## Task 1"
   ]
  },
  {
   "cell_type": "markdown",
   "id": "3d284a70",
   "metadata": {},
   "source": [
    "It is assumed that the mean systolic blood pressure is `μ = 120 mm Hg`. In the Honolulu Heart Study, a sample of `n = 100` people had an average systolic blood pressure of 130.1 mm Hg with a standard deviation of 21.21 mm Hg. Is the group significantly different (with respect to systolic blood pressure!) from the regular population?\n",
    "\n",
    "   - Set up the hypothesis test.\n",
    "   - Write down all the steps followed for setting up the test.\n",
    "   - Calculate the test statistic by hand and also code it in Python. It should be 4.76190. What decision can you make based on this calculated value?"
   ]
  },
  {
   "cell_type": "code",
   "execution_count": 1,
   "id": "14b21e9c",
   "metadata": {},
   "outputs": [],
   "source": [
    "#Paper Way\n",
    "#Step 1 & 2: Define H0 and H1:\n",
    "    #H0: μ = 120 mm Hg\n",
    "    #H1: μ not 120 mm Hg\n",
    "\n",
    "#Step 3: Define the test statistics:\n",
    "    #Degrees of freedom: 99 and 97,5 for each side\n",
    "    #T-Table t-score: 1,984\n",
    "    \n",
    "#Step 4: Define significance level\n",
    "    #alpha = 0.05\n",
    "    \n",
    "#Step 5: Calculate the test statistic:\n",
    "    #pop_mean = 120\n",
    "    #sample_mean = 130.1\n",
    "    #sample_dev = 21.21\n",
    "    #sample_size = 100\n",
    "    #test_stat = (120-130.1)/(21.21)/math.sqrt.stddev\n",
    "\n",
    "#Conclusion: This analysis shows that the group is significantly different (with respect to systolic blood pressure!) from the regular population"
   ]
  },
  {
   "cell_type": "code",
   "execution_count": 2,
   "id": "108c1d01",
   "metadata": {},
   "outputs": [],
   "source": [
    "#Python Way\n",
    "import math\n",
    "import scipy\n",
    "import statistics as stats"
   ]
  },
  {
   "cell_type": "code",
   "execution_count": 3,
   "id": "caa7500f",
   "metadata": {},
   "outputs": [
    {
     "data": {
      "text/plain": [
       "1.9842169515086827"
      ]
     },
     "execution_count": 3,
     "metadata": {},
     "output_type": "execute_result"
    }
   ],
   "source": [
    "#Step 3: \n",
    "critical_value = 1.984\n",
    "\n",
    "#altnerative way\n",
    "test_stat2 = scipy.stats.t.ppf(0.975,df=99)\n",
    "test_stat2"
   ]
  },
  {
   "cell_type": "code",
   "execution_count": 4,
   "id": "cd0d72a7",
   "metadata": {},
   "outputs": [
    {
     "data": {
      "text/plain": [
       "-4.761904761904759"
      ]
     },
     "execution_count": 4,
     "metadata": {},
     "output_type": "execute_result"
    }
   ],
   "source": [
    "#Step 5: calculate the t-statistic\n",
    "pop_mean = 120\n",
    "sample_mean = 130.1\n",
    "sample_dev = 21.21\n",
    "sample_size = 100\n",
    "test_stat = (pop_mean-sample_mean)/(sample_dev/math.sqrt(sample_size))\n",
    "test_stat"
   ]
  },
  {
   "cell_type": "code",
   "execution_count": 5,
   "id": "f7eec5d0",
   "metadata": {},
   "outputs": [
    {
     "name": "stdout",
     "output_type": "stream",
     "text": [
      "H0 is rejected\n"
     ]
    }
   ],
   "source": [
    "if abs(critical_value) < abs(test_stat):\n",
    "    print(\"H0 is rejected\")\n",
    "else:\n",
    "    print(\"H0 is not rejected\")\n",
    "#This analysis shows that the group is significantly different (with respect to systolic blood pressure!) from the regular population"
   ]
  },
  {
   "cell_type": "markdown",
   "id": "1207fe90",
   "metadata": {},
   "source": [
    "## Optional"
   ]
  },
  {
   "cell_type": "code",
   "execution_count": 6,
   "id": "f475363f",
   "metadata": {},
   "outputs": [],
   "source": [
    "import pandas as pd\n",
    "import statistics as stats\n",
    "import math"
   ]
  },
  {
   "cell_type": "code",
   "execution_count": 12,
   "id": "cd9c1d23",
   "metadata": {},
   "outputs": [],
   "source": [
    "text = pd.read_fwf('Data_Machine.txt')"
   ]
  },
  {
   "cell_type": "code",
   "execution_count": 15,
   "id": "a39990a5",
   "metadata": {},
   "outputs": [],
   "source": [
    "#Significance level: 0.95\n",
    "#Calculate the sample mean and stdev\n",
    "sample_mean_new_machine = text[\"New_Machine\"].mean()\n",
    "sample_mean_new_machine\n",
    "sample_stdev_new_machine = stats.stdev(text[\"New_Machine\"])\n",
    "sample_stdev_new_machine\n",
    "n1 = 10"
   ]
  },
  {
   "cell_type": "code",
   "execution_count": 20,
   "id": "219b6ef1",
   "metadata": {},
   "outputs": [],
   "source": [
    "#Calculate the sample mean and stdev\n",
    "sample_mean_old_machine = text[\"Old_Machine\"].mean()\n",
    "sample_mean_old_machine\n",
    "sample_stdev_old_machine = stats.stdev(text[\"Old_Machine\"])\n",
    "sample_stdev_old_machine\n",
    "n2 = 10"
   ]
  },
  {
   "cell_type": "code",
   "execution_count": null,
   "id": "d5456f52",
   "metadata": {},
   "outputs": [],
   "source": [
    "#H0: sample_mean_old_machine = sample_mean_new_machine\n",
    "#H1: sample_mean_old_machine < sample_mean_new_machine"
   ]
  },
  {
   "cell_type": "code",
   "execution_count": null,
   "id": "773dc40d",
   "metadata": {},
   "outputs": [],
   "source": [
    "#Look for critical value\n",
    "#9 degree of freedom, 0,025\n",
    "critical_value = 2.262 "
   ]
  },
  {
   "cell_type": "code",
   "execution_count": 22,
   "id": "0f20b715",
   "metadata": {},
   "outputs": [
    {
     "data": {
      "text/plain": [
       "3.3972307061176026"
      ]
     },
     "execution_count": 22,
     "metadata": {},
     "output_type": "execute_result"
    }
   ],
   "source": [
    "#Calculate the t-statistic\n",
    "#t= (sample_mean(x1) - sample_mean(x2)) / sqrt(square(s1)/n1 + square(s2)/n2 )\n",
    "t = (sample_mean_old_machine - sample_mean_new_machine) / math.sqrt(pow(sample_stdev_old_machine, 2)/n1 + pow(sample_stdev_new_machine, 2)/n2)\n",
    "t"
   ]
  },
  {
   "cell_type": "code",
   "execution_count": null,
   "id": "3b3b5c0c",
   "metadata": {},
   "outputs": [],
   "source": [
    "#Conclusion: Rejection of the H0, meaning the machines are performing significantly different"
   ]
  }
 ],
 "metadata": {
  "kernelspec": {
   "display_name": "Python 3 (ipykernel)",
   "language": "python",
   "name": "python3"
  },
  "language_info": {
   "codemirror_mode": {
    "name": "ipython",
    "version": 3
   },
   "file_extension": ".py",
   "mimetype": "text/x-python",
   "name": "python",
   "nbconvert_exporter": "python",
   "pygments_lexer": "ipython3",
   "version": "3.9.15"
  }
 },
 "nbformat": 4,
 "nbformat_minor": 5
}
