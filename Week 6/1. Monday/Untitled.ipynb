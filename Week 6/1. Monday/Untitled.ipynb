{
 "cells": [
  {
   "cell_type": "markdown",
   "id": "959ecdb5",
   "metadata": {},
   "source": [
    "# Case Study"
   ]
  },
  {
   "cell_type": "markdown",
   "id": "27328c1b",
   "metadata": {},
   "source": [
    "## 1. User Exerperience"
   ]
  },
  {
   "cell_type": "code",
   "execution_count": null,
   "id": "c327284f",
   "metadata": {},
   "outputs": [],
   "source": [
    "#pip install fuzzywuzzy"
   ]
  },
  {
   "cell_type": "code",
   "execution_count": null,
   "id": "cec44985",
   "metadata": {},
   "outputs": [],
   "source": [
    "#pip install --user pyinputplus"
   ]
  },
  {
   "cell_type": "code",
   "execution_count": 1,
   "id": "c2e715a3",
   "metadata": {},
   "outputs": [
    {
     "name": "stderr",
     "output_type": "stream",
     "text": [
      "/Users/lukasbauerschmidt/opt/anaconda3/lib/python3.9/site-packages/fuzzywuzzy/fuzz.py:11: UserWarning: Using slow pure-python SequenceMatcher. Install python-Levenshtein to remove this warning\n",
      "  warnings.warn('Using slow pure-python SequenceMatcher. Install python-Levenshtein to remove this warning')\n"
     ]
    }
   ],
   "source": [
    "import pandas as pd\n",
    "import random\n",
    "from fuzzywuzzy import process\n",
    "import pyinputplus as pyip\n",
    "\n",
    "import config\n",
    "import pandas as pd\n",
    "import spotipy\n",
    "import json\n",
    "from spotipy.oauth2 import SpotifyClientCredentials\n",
    "\n",
    "from sklearn.preprocessing import StandardScaler\n",
    "import pandas as pd\n",
    "from sklearn.cluster import KMeans\n",
    "import numpy as np\n",
    "import matplotlib.pyplot as plt\n",
    "from sklearn.metrics import silhouette_score\n",
    "import pickle\n",
    "\n",
    "from IPython.display import IFrame"
   ]
  },
  {
   "cell_type": "code",
   "execution_count": 2,
   "id": "43f5b093",
   "metadata": {},
   "outputs": [],
   "source": [
    "def load_hot_playlist(filename_hotsongs):\n",
    "    hotsongs = pd.read_csv(filename_hotsongs)\n",
    "    return hotsongs"
   ]
  },
  {
   "cell_type": "code",
   "execution_count": null,
   "id": "3d75427c",
   "metadata": {},
   "outputs": [],
   "source": [
    "def get_user_input():\n",
    "    user_input_song = input(\"Please provide a song: \").lower().title()\n",
    "    return user_input_song"
   ]
  },
  {
   "cell_type": "code",
   "execution_count": 3,
   "id": "208d1f1b",
   "metadata": {},
   "outputs": [],
   "source": [
    "def transform_database(hotsong_database):\n",
    "    transformed_hotsong_database = hotsong_database.applymap(lambda x: x.lower().title())\n",
    "    return transformed_hotsong_database"
   ]
  },
  {
   "cell_type": "code",
   "execution_count": 17,
   "id": "4a18d8f8",
   "metadata": {},
   "outputs": [],
   "source": [
    "def check_duplicates(user_input_song, transformed_hotsong_database, title_column, artist_column):\n",
    "    if (transformed_hotsong_database[title_column] == user_input_song).sum() > 1:\n",
    "        duplicates = list(transformed_hotsong_database[transformed_hotsong_database[title_column] == user_input_song][artist_column].values)\n",
    "        selected_artist = pyip.inputMenu(duplicates, prompt = \"There seem to be duplicated entries. Which of the following artists do you meant: \\n\")\n",
    "        new_user_input = transformed_hotsong_database[transformed_hotsong_database[artist_column] == selected_artist][title_column].values[0]\n",
    "        return new_user_input\n",
    "    else:\n",
    "        pass"
   ]
  },
  {
   "cell_type": "code",
   "execution_count": 12,
   "id": "18749e45",
   "metadata": {},
   "outputs": [],
   "source": [
    "'''def check_spelling_mistakes(user_input_song, transformed_hotsong_database, title_column, artist_column):\n",
    "    best_match, score = process.extractOne(user_input_song, transformed_hotsong_database[title_column].values)\n",
    "    if score > 80:\n",
    "        artists = transformed_hotsong_database[transformed_hotsong_database[title_column] == best_match][artist_column].values\n",
    "        answer = pyip.inputYesNo(prompt = f\"Your entry was not accurate enough. Did you mean {best_match} by {artists}? \\n Y/N: \")\n",
    "        if answer.lower().title() in [\"Yes\", \"Y\"]:\n",
    "            return best_match\n",
    "        else:\n",
    "            user_input_song = input(\"Please provide the song and the artist name song instead: \").lower().title()\n",
    "            \n",
    "    else:\n",
    "        pass'''"
   ]
  },
  {
   "cell_type": "code",
   "execution_count": 7,
   "id": "be0c3811",
   "metadata": {},
   "outputs": [],
   "source": [
    "def choose_random_song(transformed_hotsong_database, title_column, artist_column):\n",
    "    random_hotsong_name = random.choice(transformed_hotsong_database[title_column].values)\n",
    "    random_hotartist_name = transformed_hotsong_database[transformed_hotsong_database[title_column] == random_hotsong_name][artist_column].values[0]\n",
    "    recommendation = print(\"The recommended hot song is\", random_hotsong_name, \"by\", random_hotartist_name)\n",
    "    return recommendation\n"
   ]
  },
  {
   "cell_type": "code",
   "execution_count": 13,
   "id": "183b5b1e",
   "metadata": {},
   "outputs": [],
   "source": [
    "def recommend_hot_song(filename_hotsongs, title_column, artist_column, user_input_song):\n",
    "    hotsongs = load_hot_playlist(filename_hotsongs)\n",
    "\n",
    "    transformed_hotsong_database = transform_database(hotsongs)\n",
    "\n",
    "    #user_input_song = get_user_input()\n",
    "\n",
    "    #while user_input_song not in list(transformed_hotsong_database[title_column]):\n",
    "    #        user_input_song = input(\"Sorry there seems no matching song available. Please provide another song: \").lower().title()\n",
    "    #user_input_song = check_spelling_mistakes(user_input_song, transformed_hotsong_database, title_column, artist_column)\n",
    "    \n",
    "    new_user_input = check_duplicates(user_input_song, transformed_hotsong_database, title_column, artist_column)\n",
    "\n",
    "    recommendation = choose_random_song(transformed_hotsong_database, title_column, artist_column)\n",
    "\n",
    "    return recommendation"
   ]
  },
  {
   "cell_type": "code",
   "execution_count": 14,
   "id": "47e8f97c",
   "metadata": {},
   "outputs": [
    {
     "name": "stdout",
     "output_type": "stream",
     "text": [
      "Your entry was not accurate enough. Did you mean As It Was by ['Harry Styles']? \n",
      " Y/N: 'dwafwa' is not a valid yes/no response.\n",
      "Your entry was not accurate enough. Did you mean As It Was by ['Harry Styles']? \n",
      " Y/N: 'asfwaf' is not a valid yes/no response.\n",
      "Your entry was not accurate enough. Did you mean As It Was by ['Harry Styles']? \n",
      " Y/N: The recommended hot song is Lift Me Up by Rihanna\n"
     ]
    }
   ],
   "source": [
    "recommend_hot_song(\"hot songs.csv\", \"songs\", \"artist\")"
   ]
  },
  {
   "cell_type": "markdown",
   "id": "437096b6",
   "metadata": {},
   "source": [
    "Functionality\n",
    "\n",
    "- Sobald Lehrzeichen oder andere Zeichen/Typos eingefügt werden sollen diese entfern werden\n",
    "- Sobald ein artist eingegeben wurde, fordere den User auf, einen Song statt einem artist einzugeben\n",
    "- Sofern Duplikate angezeigt werden, sollten alle angezeigt werden\n",
    "- Display youtube link to the song the user inserted\n",
    "- If only part of the song is displayed, also find the song\n",
    "- EXTRA: display the different options of the song\n",
    "- Was passiert wenn \"The\" davor gesetzt wird\n",
    "\n",
    "Done:\n",
    "- Rechtschreibung (transformation der eingabe in Upper + Lowercase) (DONE)\n",
    "- Falls song nicht gefunden wird sollte zunächst ein error ausgeworfen werden (DONE); später soll dann eine andere Funktion geschrieben werden\n",
    "\n",
    "In Progress:"
   ]
  },
  {
   "cell_type": "markdown",
   "id": "4bccb050",
   "metadata": {},
   "source": [
    "## 2. Spotify API"
   ]
  },
  {
   "cell_type": "markdown",
   "id": "b298dc64",
   "metadata": {},
   "source": [
    "### Basic Spotify API Setup"
   ]
  },
  {
   "cell_type": "code",
   "execution_count": null,
   "id": "6b4beb19",
   "metadata": {},
   "outputs": [],
   "source": [
    "#connect to spotify\n",
    "sp = spotipy.Spotify(auth_manager=SpotifyClientCredentials(client_id= config.client_id,\n",
    "                                                           client_secret= config.client_secret))"
   ]
  },
  {
   "cell_type": "code",
   "execution_count": null,
   "id": "e6c8082e",
   "metadata": {},
   "outputs": [],
   "source": [
    "#Send request to API\n",
    "results = sp.search(q=\"Lose yourself\")\n",
    "sp.audio_features(results[\"tracks\"][\"items\"][0][\"id\"] )"
   ]
  },
  {
   "cell_type": "markdown",
   "id": "1a13b792",
   "metadata": {},
   "source": [
    "### Song Feature Extraction"
   ]
  },
  {
   "cell_type": "code",
   "execution_count": null,
   "id": "79aca6fc",
   "metadata": {},
   "outputs": [],
   "source": [
    "#Extracting features of songs and appending them to dataframe\n",
    "list_of_songs=[]\n",
    "for index in range(0,len(song[\"tracks\"][\"items\"])):\n",
    "    list_of_songs.append(sp.audio_features(song[\"tracks\"][\"items\"][index][\"uri\"])[0])\n",
    "df=pd.DataFrame(list_of_songs)\n",
    "df=df[[\"danceability\",\"energy\",\"loudness\",\"speechiness\",\"acousticness\",\n",
    "    \"instrumentalness\",\"liveness\",\"valence\",\"tempo\",\"id\",\"duration_ms\"]]"
   ]
  },
  {
   "cell_type": "markdown",
   "id": "1d9bc6ea",
   "metadata": {},
   "source": [
    "### Playlist "
   ]
  },
  {
   "cell_type": "code",
   "execution_count": null,
   "id": "0f678874",
   "metadata": {},
   "outputs": [],
   "source": [
    "#Extracting the songs ids from playlist\n",
    "list_of_audio_features=[]\n",
    "for item in range(0,10):\n",
    "    #print (tracks[item][\"track\"][\"id\"])\n",
    "    list_of_audio_features.append(sp.audio_features(tracks[item][\"track\"][\"id\"])[0])\n",
    "df=pd.DataFrame(list_of_audio_features)    \n",
    "df=df[[\"danceability\",\"energy\",\"loudness\",\"speechiness\",\"acousticness\",\n",
    "    \"instrumentalness\",\"liveness\",\"valence\",\"tempo\",\"id\",\"duration_ms\"]]"
   ]
  },
  {
   "cell_type": "code",
   "execution_count": null,
   "id": "22a3a23c",
   "metadata": {},
   "outputs": [],
   "source": [
    "#Searching a playlist\n",
    "playlist = sp.user_playlist_tracks(\"spotify\", \"7beGd4yYY1qpsBv6K3clFZ\",market=\"GB\")"
   ]
  },
  {
   "cell_type": "code",
   "execution_count": null,
   "id": "c389ddc3",
   "metadata": {},
   "outputs": [],
   "source": [
    "#Extracting songs of playlist\n",
    "def get_playlist_tracks(username, playlist_id):\n",
    "    results = sp.user_playlist_tracks(username,playlist_id,market=\"GB\")\n",
    "    tracks = results['items']\n",
    "    while results['next']:\n",
    "        results = sp.next(results)\n",
    "        tracks.extend(results['items'])\n",
    "    return tracks"
   ]
  },
  {
   "cell_type": "markdown",
   "id": "513337f1",
   "metadata": {},
   "source": [
    "### Artists"
   ]
  },
  {
   "cell_type": "code",
   "execution_count": null,
   "id": "78cf1bd2",
   "metadata": {},
   "outputs": [],
   "source": [
    "Question: how to get the playlist ID?"
   ]
  },
  {
   "cell_type": "code",
   "execution_count": null,
   "id": "bf018195",
   "metadata": {},
   "outputs": [],
   "source": [
    "#Extract artists from track\n",
    "def get_artists_from_track(track):\n",
    "    return [artist[\"name\"] for artist in track[\"artists\"]]"
   ]
  },
  {
   "cell_type": "code",
   "execution_count": null,
   "id": "81308399",
   "metadata": {},
   "outputs": [],
   "source": [
    "#Extract artists from playlist\n",
    "def get_artists_from_playlist(playlist_id):\n",
    "    tracks_from_playlist = get_playlist_tracks(\"spotify\", playlist_id)\n",
    "    return list(set(artist for subset in [get_artists_from_track(track[\"track\"]) for track in tracks_from_playlist] for artist in subset))"
   ]
  },
  {
   "cell_type": "markdown",
   "id": "a4fc83d6",
   "metadata": {},
   "source": [
    "### Albums"
   ]
  },
  {
   "cell_type": "code",
   "execution_count": null,
   "id": "d7c7c84a",
   "metadata": {},
   "outputs": [],
   "source": [
    "#Extract all tracks of one artist\n",
    "def get_albums_from_artist(artist_id):\n",
    "    results = sp.artist_albums(artist_id, limit = 50,country=\"GB\")\n",
    "    tracks = results['items']\n",
    "    while results['next']:\n",
    "        results = sp.next(results)\n",
    "        tracks.extend(results['items'])\n",
    "    return tracks"
   ]
  },
  {
   "cell_type": "code",
   "execution_count": null,
   "id": "d6a785b5",
   "metadata": {},
   "outputs": [],
   "source": [
    "#Extract all albums ID of one artist\n",
    "def get_album_ids_from_artist(artist_id):\n",
    "    results = sp.artist_albums(artist_id, limit = 50)\n",
    "    tracks = results['items']\n",
    "    while results['next']:\n",
    "        results = sp.next(results)\n",
    "        tracks.extend(results['items'])\n",
    "    return [track[\"id\"] for track in tracks]"
   ]
  },
  {
   "cell_type": "code",
   "execution_count": null,
   "id": "ed157c3e",
   "metadata": {},
   "outputs": [],
   "source": [
    "#Check \n",
    "set([artist[\"name\"] for track in coldplay_albums for artist in track[\"artists\"]])"
   ]
  },
  {
   "cell_type": "code",
   "execution_count": null,
   "id": "1bb8ee4e",
   "metadata": {},
   "outputs": [],
   "source": [
    "#Extracting songs of given album\n",
    "def get_track_ids_from_albums(album_ids):\n",
    "    return list(set([i[\"id\"] for j in album_ids for i in sp.album(j)[\"tracks\"][\"items\"]]))"
   ]
  },
  {
   "cell_type": "code",
   "execution_count": null,
   "id": "7ec027ad",
   "metadata": {},
   "outputs": [],
   "source": []
  },
  {
   "cell_type": "markdown",
   "id": "2c07b0fa",
   "metadata": {},
   "source": [
    "### Pipeline"
   ]
  },
  {
   "cell_type": "code",
   "execution_count": null,
   "id": "dc5f16f9",
   "metadata": {},
   "outputs": [],
   "source": [
    "#setup\n",
    "sp = spotipy.Spotify(auth_manager=SpotifyClientCredentials(client_id= config.client_id,\n",
    "                                                           client_secret= config.client_secret))"
   ]
  },
  {
   "cell_type": "code",
   "execution_count": null,
   "id": "a32c2a27",
   "metadata": {},
   "outputs": [],
   "source": [
    "#Identify spotify markets\n",
    "markets = sp.available_markets()[\"markets\"]"
   ]
  },
  {
   "cell_type": "code",
   "execution_count": null,
   "id": "6760ca50",
   "metadata": {},
   "outputs": [],
   "source": [
    "#Identify genres per markets & store them in dictionary\n",
    "genres_per_country = {}\n",
    "\n",
    "for market in markets:\n",
    "    genres_per_country.update({market:{}})\n",
    "    for category in sp.categories(country=str(market), limit=50)[\"categories\"][\"items\"]:\n",
    "        genres_per_country[market].update({category[\"name\"]: category[\"id\"]})"
   ]
  },
  {
   "cell_type": "code",
   "execution_count": null,
   "id": "fff088bd",
   "metadata": {
    "scrolled": true
   },
   "outputs": [],
   "source": [
    "#Identify playlist_ids per market and per genre & store them in dictionary\n",
    "from random import randint\n",
    "from time import sleep\n",
    "\n",
    "for market in markets:\n",
    "    for category in genres_per_country[market]:\n",
    "        try:\n",
    "            genres_per_country[market].update({category: [genres_per_country[market][category], sp.category_playlists(category_id = genres_per_country[market][category], country = market, limit = 1)[\"playlists\"][\"items\"][0][\"id\"]]})\n",
    "        except:\n",
    "            pass"
   ]
  },
  {
   "cell_type": "code",
   "execution_count": null,
   "id": "81b6fb29",
   "metadata": {},
   "outputs": [],
   "source": [
    "#Format: Country: Category: Category_ID, Sample Playlist_ID\n",
    "genres_per_country"
   ]
  },
  {
   "cell_type": "code",
   "execution_count": null,
   "id": "31a83956",
   "metadata": {},
   "outputs": [],
   "source": [
    "def get_playlist_tracks(username, playlist_id):\n",
    "    results = sp.user_playlist_tracks(username, playlist_id, fields = \"items.track.id, next\", limit=10)\n",
    "    tracks = results['items']\n",
    "    while results['next']:\n",
    "        results = sp.next(results)\n",
    "        tracks.extend(results['items'])\n",
    "    return tracks"
   ]
  },
  {
   "cell_type": "code",
   "execution_count": null,
   "id": "39886172",
   "metadata": {},
   "outputs": [],
   "source": [
    "#Clean the playlist_ids\n",
    "playlist__id_list = []\n",
    "for market in markets:\n",
    "    for category in genres_per_country[market]:\n",
    "        playlist__id_list.append(genres_per_country[market][category][1])"
   ]
  },
  {
   "cell_type": "code",
   "execution_count": null,
   "id": "c869c1fe",
   "metadata": {},
   "outputs": [],
   "source": [
    "#Check length of unclean playist_id list\n",
    "len(playlist__id_list)"
   ]
  },
  {
   "cell_type": "code",
   "execution_count": null,
   "id": "11d8a046",
   "metadata": {},
   "outputs": [],
   "source": [
    "#Check length of unclean playist_id set -> There seems to be more than 7000 duplicates\n",
    "len(set(playlist__id_list))"
   ]
  },
  {
   "cell_type": "code",
   "execution_count": null,
   "id": "27e6d495",
   "metadata": {},
   "outputs": [],
   "source": [
    "#Create final list of playlists\n",
    "final_list = list(set(playlist__id_list))"
   ]
  },
  {
   "cell_type": "code",
   "execution_count": null,
   "id": "5c51a7b5",
   "metadata": {
    "scrolled": true
   },
   "outputs": [],
   "source": [
    "#Get information of first 10 songs of each playlist\n",
    "df_info = []\n",
    "\n",
    "for playlist_id in final_list:\n",
    "        try:\n",
    "                df_info.extend(get_playlist_tracks(\"spotify\", playlist_id))\n",
    "        except:\n",
    "                pass"
   ]
  },
  {
   "cell_type": "code",
   "execution_count": null,
   "id": "80b28edc",
   "metadata": {},
   "outputs": [],
   "source": [
    "len(df_info)"
   ]
  },
  {
   "cell_type": "code",
   "execution_count": null,
   "id": "601a2183",
   "metadata": {},
   "outputs": [],
   "source": [
    "import pandas as pd\n",
    "data = pd.read_csv(\"save.csv\")\n",
    "df_info = list(data[\"track\"])"
   ]
  },
  {
   "cell_type": "code",
   "execution_count": null,
   "id": "bb68dbb5",
   "metadata": {},
   "outputs": [],
   "source": [
    "from time import sleep\n",
    "from random import randint\n",
    "from random import uniform\n",
    "\n",
    "feature_list = []\n",
    "\n",
    "for track_id in df_info:\n",
    "        sleep(uniform(0.1, 0.7))\n",
    "        try:\n",
    "                feature_list.extend(sp.audio_features(track_id[\"track\"][\"id\"]))\n",
    "        except:\n",
    "                pass\n",
    "df = pd.DataFrame(feature_list)\n",
    "df = df[[\"danceability\",\"energy\",\"loudness\",\"speechiness\",\"acousticness\", \"instrumentalness\",\"liveness\",\"valence\",\"tempo\",\"id\",\"duration_ms\"]]\n",
    "df.to_csv(\"final.csv\")"
   ]
  },
  {
   "cell_type": "code",
   "execution_count": null,
   "id": "5f73b747",
   "metadata": {},
   "outputs": [],
   "source": [
    "feature_list\n",
    "df = pd.DataFrame(feature_list)\n",
    "df = df[[\"danceability\",\"energy\",\"loudness\",\"speechiness\",\"acousticness\", \"instrumentalness\",\"liveness\",\"valence\",\"tempo\",\"id\",\"duration_ms\"]]"
   ]
  },
  {
   "cell_type": "code",
   "execution_count": null,
   "id": "181fa301",
   "metadata": {},
   "outputs": [],
   "source": [
    "#import pandas as pd\n",
    "#save = pd.DataFrame(df_info)\n",
    "#save.to_csv(\"save.csv\")"
   ]
  },
  {
   "cell_type": "code",
   "execution_count": null,
   "id": "1877519a",
   "metadata": {},
   "outputs": [],
   "source": [
    "def get_features(track_id):\n",
    "    track_features = []\n",
    "    track_features.extend(sp.audio_features(track_id))\n",
    "    return track_features"
   ]
  },
  {
   "cell_type": "code",
   "execution_count": null,
   "id": "bf710ab8",
   "metadata": {},
   "outputs": [],
   "source": [
    "track_features_lst = []\n",
    "for track in df_info:\n",
    "    try:\n",
    "        track_features_lst.extend(get_features(track[\"track\"][\"id\"]))\n",
    "    except:\n",
    "        pass\n",
    "\n",
    "df = pd.DataFrame(track_features_lst)\n",
    "df = df[[\"danceability\",\"energy\",\"loudness\",\"speechiness\",\"acousticness\", \"instrumentalness\",\"liveness\",\"valence\",\"tempo\",\"id\",\"duration_ms\"]]"
   ]
  },
  {
   "attachments": {},
   "cell_type": "markdown",
   "id": "6ce505e0",
   "metadata": {},
   "source": [
    "## 3. Clustering"
   ]
  },
  {
   "cell_type": "code",
   "execution_count": null,
   "id": "663acce0",
   "metadata": {},
   "outputs": [],
   "source": [
    "def read_database(filename):\n",
    "    initial_df = pd.read_csv(filename)\n",
    "    columns_wo_id = initial_df.columns.drop([\"id\"])\n",
    "    final_num = initial_df.drop_duplicates().select_dtypes(include='number')\n",
    "    final_str = initial_df.drop_duplicates().select_dtypes(exclude='number')\n",
    "    return final_num, final_str, columns_wo_id"
   ]
  },
  {
   "cell_type": "code",
   "execution_count": null,
   "id": "90bdf28d",
   "metadata": {},
   "outputs": [],
   "source": [
    "final_num, final_str, columns_wo_id = read_database(\"df_complete.csv\")"
   ]
  },
  {
   "attachments": {},
   "cell_type": "markdown",
   "id": "9fed70a2",
   "metadata": {},
   "source": [
    "### 3.1 Scaling Database"
   ]
  },
  {
   "cell_type": "code",
   "execution_count": null,
   "id": "2d1377ca",
   "metadata": {},
   "outputs": [],
   "source": [
    "def scale_num_only_database(numerical_dataframe, columns_wo_id):\n",
    "    scaler = StandardScaler()\n",
    "    fitted_standard_scaler = scaler.fit(numerical_dataframe)\n",
    "    numerical_dataframe_scaled = scaler.transform(numerical_dataframe)\n",
    "    numerical_dataframe_scaled = pd.DataFrame(numerical_dataframe_scaled, columns = columns_wo_id)\n",
    "    return numerical_dataframe_scaled, fitted_standard_scaler"
   ]
  },
  {
   "cell_type": "code",
   "execution_count": null,
   "id": "d74b1a25",
   "metadata": {},
   "outputs": [],
   "source": [
    "numerical_dataframe_scaled_final, fitted_standard_scaler = scale_num_only_database(final_num, columns_wo_id)"
   ]
  },
  {
   "attachments": {},
   "cell_type": "markdown",
   "id": "9ac91fd2",
   "metadata": {},
   "source": [
    "### 3.2 Clustering Database"
   ]
  },
  {
   "cell_type": "code",
   "execution_count": null,
   "metadata": {},
   "outputs": [],
   "source": [
    "K = range(2, 21)\n",
    "inertia = []\n",
    "\n",
    "for k in K:\n",
    "    print(\"Training a K-Means model with {} clusters! \".format(k))\n",
    "    print()\n",
    "    kmeans = KMeans(n_clusters=k,\n",
    "                    random_state=1234)\n",
    "    kmeans.fit(final_num_scaled_df)\n",
    "    inertia.append(kmeans.inertia_)\n",
    "\n",
    "%matplotlib inline\n",
    "\n",
    "plt.figure(figsize=(16,8))\n",
    "plt.plot(K, inertia, 'bx-')\n",
    "plt.xlabel('k')\n",
    "plt.ylabel('inertia')\n",
    "plt.xticks(np.arange(min(K), max(K)+1, 1.0))\n",
    "plt.title('Elbow Method showing the optimal k')"
   ]
  },
  {
   "cell_type": "code",
   "execution_count": null,
   "id": "e8150785",
   "metadata": {},
   "outputs": [],
   "source": [
    "K = range(2, 20)\n",
    "silhouette = []\n",
    "\n",
    "for k in K:\n",
    "    kmeans = KMeans(n_clusters=k,\n",
    "                    random_state=1234)\n",
    "    kmeans.fit(final_num_scaled_df)\n",
    "    \n",
    "    filename = \"Model/kmeans_\" + str(k) + \".pickle\"\n",
    "    with open(filename, \"wb\") as f:\n",
    "        pickle.dump(kmeans,f)\n",
    "    \n",
    "    silhouette.append(silhouette_score(final_num_scaled_df, kmeans.predict(final_num_scaled_df)))\n",
    "\n",
    "\n",
    "plt.figure(figsize=(16,8))\n",
    "plt.plot(K, silhouette, 'bx-')\n",
    "plt.xlabel('k')\n",
    "plt.ylabel('silhouette score')\n",
    "plt.xticks(np.arange(min(K), max(K)+1, 1.0))\n",
    "plt.title('Silhouette Method showing the optimal k')"
   ]
  },
  {
   "attachments": {},
   "cell_type": "markdown",
   "id": "f4047c10",
   "metadata": {},
   "source": [
    "### 3.3 Assigning Clusters to Database"
   ]
  },
  {
   "cell_type": "code",
   "execution_count": null,
   "id": "dced0dab",
   "metadata": {},
   "outputs": [],
   "source": [
    "def train_kmeans(numerical_scaled_dataframe, n_clusters):\n",
    "    kmeans = KMeans(n_clusters=n_clusters,\n",
    "                init=\"k-means++\",\n",
    "                n_init=50,  # try with 1, 4, 8, 20, 30, 100...\n",
    "                max_iter=1,\n",
    "                tol=0,\n",
    "                algorithm=\"elkan\",\n",
    "                random_state=1234)\n",
    "    fitted_kmeans = kmeans.fit(numerical_scaled_dataframe)\n",
    "    return fitted_kmeans"
   ]
  },
  {
   "cell_type": "code",
   "execution_count": null,
   "id": "50f0b2dd",
   "metadata": {},
   "outputs": [],
   "source": [
    "fitted_kmeans = train_kmeans(numerical_dataframe_scaled_final, 15)"
   ]
  },
  {
   "cell_type": "code",
   "execution_count": null,
   "id": "02c5f03b",
   "metadata": {},
   "outputs": [],
   "source": [
    "def predict_and_assign_clusters(trained_kmeans, numerical_scaled_dataframe):\n",
    "    clusters = trained_kmeans.predict(numerical_scaled_dataframe)\n",
    "    numerical_scaled_dataframe_incl_clusters = numerical_scaled_dataframe.copy()\n",
    "    numerical_scaled_dataframe_incl_clusters[\"cluster\"] = clusters\n",
    "    return numerical_scaled_dataframe_incl_clusters"
   ]
  },
  {
   "cell_type": "code",
   "execution_count": null,
   "id": "044baf46",
   "metadata": {},
   "outputs": [],
   "source": [
    "num_df_with_clusters = predict_and_assign_clusters(fitted_kmeans, numerical_dataframe_scaled_final)"
   ]
  },
  {
   "attachments": {},
   "cell_type": "markdown",
   "id": "6b4041c2",
   "metadata": {},
   "source": [
    "### 3.4 Appending id features back to database"
   ]
  },
  {
   "cell_type": "code",
   "execution_count": null,
   "id": "8a326d6c",
   "metadata": {},
   "outputs": [],
   "source": [
    "def combining_dataframes(dataframe_with_clusters, dataframe_without_clusters):\n",
    "    final_database = pd.concat([dataframe_with_clusters.reset_index(), dataframe_without_clusters.reset_index()], axis=1)\n",
    "    final_database = final_database.drop([\"index\"], axis=1)\n",
    "    return final_database"
   ]
  },
  {
   "cell_type": "code",
   "execution_count": null,
   "id": "b190ae5f",
   "metadata": {},
   "outputs": [],
   "source": [
    "database = combining_dataframes(num_df_with_clusters, final_str)"
   ]
  },
  {
   "attachments": {},
   "cell_type": "markdown",
   "id": "10528bf5",
   "metadata": {},
   "source": [
    "### 3.5 Retrieving User Song Features"
   ]
  },
  {
   "cell_type": "code",
   "execution_count": null,
   "id": "899ba055",
   "metadata": {},
   "outputs": [],
   "source": [
    "def get_user_input():\n",
    "    user_input = input(\"Please provide a song: \").lower().title()\n",
    "    return user_input"
   ]
  },
  {
   "cell_type": "code",
   "execution_count": null,
   "id": "972b602e",
   "metadata": {},
   "outputs": [],
   "source": [
    "user_input = get_user_input()"
   ]
  },
  {
   "cell_type": "code",
   "execution_count": null,
   "id": "e39dbd88",
   "metadata": {},
   "outputs": [],
   "source": [
    "def retrieve_user_song_features(user_input, fitted_scaler):\n",
    "    spotify_results = sp.search(q=user_input, limit=1)\n",
    "    user_input_features = sp.audio_features(spotify_results[\"tracks\"][\"items\"][0][\"id\"])\n",
    "    user_input_features_df = pd.DataFrame(user_input_features)[[\"danceability\",\"energy\",\"loudness\",\"speechiness\",\"acousticness\", \"instrumentalness\",\"liveness\",\"valence\",\"tempo\",\"id\",\"duration_ms\"]]\n",
    "    user_input_features_df = user_input_features_df.drop(\"id\", axis=1)\n",
    "    transformed_data = fitted_scaler.transform(user_input_features_df)\n",
    "    user_input_features_df = pd.DataFrame(data = transformed_data, columns = [\"danceability\",\"energy\",\"loudness\",\"speechiness\",\"acousticness\", \"instrumentalness\",\"liveness\",\"valence\",\"tempo\",\"duration_ms\"])\n",
    "    return user_input_features_df"
   ]
  },
  {
   "cell_type": "code",
   "execution_count": null,
   "id": "e3688259",
   "metadata": {},
   "outputs": [],
   "source": [
    "user_song_features = retrieve_user_song_features(user_input, fitted_standard_scaler)"
   ]
  },
  {
   "attachments": {},
   "cell_type": "markdown",
   "id": "e1ff5272",
   "metadata": {},
   "source": [
    "### 3.6 Predict Cluster of User Song"
   ]
  },
  {
   "cell_type": "code",
   "execution_count": null,
   "id": "fbf2d028",
   "metadata": {},
   "outputs": [],
   "source": [
    "def predict_cluster_of_user_song(trained_kmeans, user_input_features):\n",
    "    targt_cluster = trained_kmeans.predict(user_input_features)[0]\n",
    "    return targt_cluster"
   ]
  },
  {
   "cell_type": "code",
   "execution_count": null,
   "id": "1b5bf8bf",
   "metadata": {},
   "outputs": [],
   "source": [
    "predicted_song_cluster = predict_cluster_of_user_song(fitted_kmeans, user_song_features)"
   ]
  },
  {
   "attachments": {},
   "cell_type": "markdown",
   "id": "384367e5",
   "metadata": {},
   "source": [
    "### 3.7 Recommend User a Random Song of Database"
   ]
  },
  {
   "cell_type": "code",
   "execution_count": null,
   "id": "a6e554f5",
   "metadata": {},
   "outputs": [],
   "source": [
    "def recommend_random_song_in_same_cluster(user_song_cluster, final_database):\n",
    "    random_index = final_database[final_database[\"cluster\"] == user_song_cluster].sample().index[0]\n",
    "    recommended_track_id = final_database.iloc[random_index,11:].values[0]\n",
    "    track_info = sp.track(recommended_track_id)\n",
    "    track_name = track_info['name']\n",
    "    artist_name = track_info['artists'][0]['name']\n",
    "    recommendation = print(\"The recommended song is {} by {}\".format(track_name, artist_name))\n",
    "    return recommendation, recommended_track_id"
   ]
  },
  {
   "cell_type": "code",
   "execution_count": null,
   "id": "80d3994e",
   "metadata": {},
   "outputs": [],
   "source": [
    "recommend_random_song_in_same_cluster(predicted_song_cluster, database)"
   ]
  },
  {
   "cell_type": "code",
   "execution_count": null,
   "id": "da7bdeed",
   "metadata": {},
   "outputs": [],
   "source": [
    "recommendation, recommendation_track_id = recommend_random_song_in_same_cluster(predicted_song_cluster, database)"
   ]
  },
  {
   "attachments": {},
   "cell_type": "markdown",
   "id": "b3a75ef3",
   "metadata": {},
   "source": [
    "### 3.8 Play the song "
   ]
  },
  {
   "cell_type": "code",
   "execution_count": null,
   "id": "4ab29e68",
   "metadata": {},
   "outputs": [],
   "source": [
    "def play_song(track_id):\n",
    "    return IFrame(src=\"https://open.spotify.com/embed/track/\"+track_id,\n",
    "       width=\"320\",\n",
    "       height=\"80\",\n",
    "       frameborder=\"0\",\n",
    "       allowtransparency=\"true\",\n",
    "       allow=\"encrypted-media\"\n",
    "      )"
   ]
  },
  {
   "cell_type": "code",
   "execution_count": null,
   "id": "6229c2a5",
   "metadata": {},
   "outputs": [],
   "source": [
    "play_song(recommendation_track_id)"
   ]
  },
  {
   "attachments": {},
   "cell_type": "markdown",
   "id": "7807082f",
   "metadata": {},
   "source": [
    "### 3.9 Recommender if inserted song is not in hot playlist"
   ]
  },
  {
   "cell_type": "code",
   "execution_count": null,
   "id": "5df2abfb",
   "metadata": {},
   "outputs": [],
   "source": [
    "def recommender_if_not_hot_songs(filename, n_clusters):\n",
    "    final_num, final_str, columns_wo_id = read_database(filename)\n",
    "    \n",
    "    numerical_dataframe_scaled_final, fitted_standard_scaler = scale_num_only_database(final_num,columns_wo_id)\n",
    "\n",
    "    fitted_kmeans = train_kmeans(numerical_dataframe_scaled_final, n_clusters)\n",
    "\n",
    "    num_df_with_clusters = predict_and_assign_clusters(fitted_kmeans, numerical_dataframe_scaled_final)\n",
    "\n",
    "    database = combining_dataframes(num_df_with_clusters, final_str)\n",
    "\n",
    "    user_input = get_user_input()\n",
    "\n",
    "    user_song_features = retrieve_user_song_features(user_input, fitted_standard_scaler)\n",
    "\n",
    "    predicted_song_cluster = predict_cluster_of_user_song(fitted_kmeans, user_song_features)\n",
    "\n",
    "    recommendation, recommendation_track_id = recommend_random_song_in_same_cluster(predicted_song_cluster, database)\n",
    "\n",
    "    recommendation\n",
    "\n",
    "    return play_song(recommendation_track_id)"
   ]
  },
  {
   "cell_type": "code",
   "execution_count": null,
   "id": "ba0a0d0b",
   "metadata": {},
   "outputs": [],
   "source": [
    "recommender_if_not_hot_songs(\"df_complete.csv\", 15)"
   ]
  },
  {
   "attachments": {},
   "cell_type": "markdown",
   "id": "5aa480ba",
   "metadata": {},
   "source": [
    "## 4. Putting it all together"
   ]
  },
  {
   "cell_type": "code",
   "execution_count": 16,
   "id": "dbab21d9",
   "metadata": {},
   "outputs": [],
   "source": [
    "def song_pre_match_checker(user_input_song, transformed_hotsong_database, title_column, artist_column):\n",
    "    \n",
    "    match = False\n",
    "\n",
    "    user_input_song = user_input_song.lower().title()\n",
    "\n",
    "    best_match, score = process.extractOne(user_input_song, transformed_hotsong_database[title_column].values)\n",
    "\n",
    "    if score > 70:\n",
    "        artists = transformed_hotsong_database[transformed_hotsong_database[title_column] == best_match][artist_column].values\n",
    "        answer = pyip.inputYesNo(prompt = f\"Your entry was not accurate enough. Did you mean {best_match} by {artists}? \\n Y/N: \")\n",
    "\n",
    "        if answer.lower().title() in [\"Yes\", \"Y\"]:\n",
    "            match = True\n",
    "            return match, best_match\n",
    "\n",
    "        else:\n",
    "            user_input_song = input(\"What song did you mean instead. Please insert a more accurate song title: \\n\").lower().title()\n",
    "            match = False\n",
    "            return match, best_match\n",
    "\n",
    "    else:\n",
    "        match = False\n",
    "        return match, best_match"
   ]
  },
  {
   "cell_type": "code",
   "execution_count": null,
   "id": "d794beec",
   "metadata": {},
   "outputs": [],
   "source": [
    "def final_recommender(filename_hotsongs, title_column, artist_column, filename, n_clusters):\n",
    "    user_input = get_user_input()\n",
    "\n",
    "    match, user_input = song_pre_match_checker(user_input, filename_hotsongs, title_column, artist_column)\n",
    "\n",
    "    if match == True:\n",
    "        recommend_hot_song(filename_hotsongs, title_column, artist_column)\n",
    "\n",
    "    if match == False:\n",
    "        recommender_if_not_hot_songs(filename, n_clusters)"
   ]
  }
 ],
 "metadata": {
  "kernelspec": {
   "display_name": "base",
   "language": "python",
   "name": "python3"
  },
  "language_info": {
   "codemirror_mode": {
    "name": "ipython",
    "version": 3
   },
   "file_extension": ".py",
   "mimetype": "text/x-python",
   "name": "python",
   "nbconvert_exporter": "python",
   "pygments_lexer": "ipython3",
   "version": "3.9.13"
  },
  "vscode": {
   "interpreter": {
    "hash": "8a74db3f91c27a9b84291ac903c101b0b77cb402a445186b8d8b05699ba75a7d"
   }
  }
 },
 "nbformat": 4,
 "nbformat_minor": 5
}
